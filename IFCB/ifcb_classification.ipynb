{
 "cells": [
  {
   "cell_type": "code",
   "execution_count": null,
   "metadata": {},
   "outputs": [],
   "source": [
    "import ifcb_classification as cls\n",
    "\n",
    "input_path = 'input'\n",
    "output_path = 'output'\n",
    "model_path = r'.\\yolo11m-cls_Gulce.pt'\n",
    "\n",
    "cls.classify_ifcb_in_folder(model_path, input_path, output_path, confidence_threshold = 0)"
   ]
  }
 ],
 "metadata": {
  "kernelspec": {
   "display_name": "igb_test",
   "language": "python",
   "name": "python3"
  },
  "language_info": {
   "codemirror_mode": {
    "name": "ipython",
    "version": 3
   },
   "file_extension": ".py",
   "mimetype": "text/x-python",
   "name": "python",
   "nbconvert_exporter": "python",
   "pygments_lexer": "ipython3",
   "version": "3.13.2"
  }
 },
 "nbformat": 4,
 "nbformat_minor": 2
}
