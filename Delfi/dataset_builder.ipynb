{
 "cells": [
  {
   "cell_type": "code",
   "execution_count": 1,
   "metadata": {},
   "outputs": [],
   "source": [
    "from delfi import DatasetBuilder"
   ]
  },
  {
   "cell_type": "markdown",
   "metadata": {},
   "source": [
    "Initialize the DatasetBuilder"
   ]
  },
  {
   "cell_type": "code",
   "execution_count": 2,
   "metadata": {},
   "outputs": [],
   "source": [
    "raw_dataset = r\".\\framework_test_dataset\\raw\"\n",
    "unverified_dataset = r\".\\framework_test_dataset\\unverified\"\n",
    "\n",
    "dataset = DatasetBuilder(raw_dataset, unverified_dataset)"
   ]
  },
  {
   "cell_type": "markdown",
   "metadata": {},
   "source": [
    "Creating yolo11 dataset with model"
   ]
  },
  {
   "cell_type": "code",
   "execution_count": 3,
   "metadata": {},
   "outputs": [
    {
     "name": "stdout",
     "output_type": "stream",
     "text": [
      "Total raw images: 10\n",
      "Unprocessed raw images: 10\n",
      "Images to process: 5 = ['.\\\\framework_test_dataset\\\\raw\\\\2019_05_ROB0509_03-0923113942.jpg', '.\\\\framework_test_dataset\\\\raw\\\\asdfasd\\\\2019_05_ROB0509_03-0923114057.jpg', '.\\\\framework_test_dataset\\\\raw\\\\2019_05_ROB0509_03-0923114020.jpg', '.\\\\framework_test_dataset\\\\raw\\\\asdfasd\\\\2019_05_ROB0509_03-0923114213.jpg', '.\\\\framework_test_dataset\\\\raw\\\\asdfasd\\\\2019_05_ROB0509_03-0923114250.jpg']\n",
      "Processing 1 out of 5 : .\\framework_test_dataset\\raw\\2019_05_ROB0509_03-0923113942.jpg\n",
      "Processing 2 out of 5 : .\\framework_test_dataset\\raw\\asdfasd\\2019_05_ROB0509_03-0923114057.jpg\n",
      "Processing 3 out of 5 : .\\framework_test_dataset\\raw\\2019_05_ROB0509_03-0923114020.jpg\n",
      "Processing 4 out of 5 : .\\framework_test_dataset\\raw\\asdfasd\\2019_05_ROB0509_03-0923114213.jpg\n",
      "Processing 5 out of 5 : .\\framework_test_dataset\\raw\\asdfasd\\2019_05_ROB0509_03-0923114250.jpg\n"
     ]
    }
   ],
   "source": [
    "model_path = r\".\\yolo11m_week1.pt\"\n",
    "\n",
    "dataset.create_yolo11_dataset_with_model(model_path, conf_threshold = 0.2, n_images = 5, split_ratio = [0.7, 0.2, 0.1], verbose = True)"
   ]
  },
  {
   "cell_type": "markdown",
   "metadata": {},
   "source": [
    "Check if it's a valid yolo11 dataset"
   ]
  },
  {
   "cell_type": "code",
   "execution_count": 14,
   "metadata": {},
   "outputs": [
    {
     "name": "stdout",
     "output_type": "stream",
     "text": [
      "Is yolo11 dataset: True\n",
      "{'is_valid': True,\n",
      " 'issues': [],\n",
      " 'structure': {'class_count': 16,\n",
      "               'classes': ['CLBosBos000',\n",
      "                           'CLDapCer050',\n",
      "                           'CLDapDap000',\n",
      "                           'CLLepLep010',\n",
      "                           'CLSidDia010',\n",
      "                           'CO000000N00',\n",
      "                           'COCal000000',\n",
      "                           'COCyc000000',\n",
      "                           'COegg',\n",
      "                           'RMAspAsp000',\n",
      "                           'RMBraKel000',\n",
      "                           'RMBraKer010',\n",
      "                           'RMBraKer050',\n",
      "                           'RMSynPol000',\n",
      "                           'RMTroFil000',\n",
      "                           'z_unknown'],\n",
      "               'config_keys': ['train', 'val', 'names', 'nc'],\n",
      "               'data_yaml': True,\n",
      "               'test_dir': True,\n",
      "               'test_image_count': 1,\n",
      "               'test_images_dir': True,\n",
      "               'test_label_count': 1,\n",
      "               'test_labels_dir': True,\n",
      "               'test_sample_image': '2019_05_ROB0509_03-0923114057.jpg',\n",
      "               'test_sample_label': '2019_05_ROB0509_03-0923114057.txt',\n",
      "               'train_dir': True,\n",
      "               'train_image_count': 4,\n",
      "               'train_images_dir': True,\n",
      "               'train_label_count': 4,\n",
      "               'train_labels_dir': True,\n",
      "               'train_sample_image': '2019_05_ROB0509_03-0923113942.jpg',\n",
      "               'train_sample_label': '2019_05_ROB0509_03-0923113942.txt',\n",
      "               'valid_label_format': True}}\n"
     ]
    }
   ],
   "source": [
    "from yolo_dataset_checker import is_yolo11_dataset\n",
    "import pprint\n",
    "\n",
    "test = is_yolo11_dataset(r\".\\framework_test_dataset\\unverified\\Unverified_10042025_214235\")\n",
    "print(f\"Is yolo11 dataset: {test['is_valid']}\")\n",
    "\n",
    "pp = pprint.PrettyPrinter()\n",
    "pp.pprint(test)"
   ]
  }
 ],
 "metadata": {
  "kernelspec": {
   "display_name": "IGBv1",
   "language": "python",
   "name": "python3"
  },
  "language_info": {
   "codemirror_mode": {
    "name": "ipython",
    "version": 3
   },
   "file_extension": ".py",
   "mimetype": "text/x-python",
   "name": "python",
   "nbconvert_exporter": "python",
   "pygments_lexer": "ipython3",
   "version": "3.12.0"
  }
 },
 "nbformat": 4,
 "nbformat_minor": 2
}
