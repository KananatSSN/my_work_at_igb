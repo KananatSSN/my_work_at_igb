{
 "cells": [
  {
   "cell_type": "code",
   "execution_count": null,
   "metadata": {},
   "outputs": [],
   "source": [
    "from delfi import DatasetBuilder"
   ]
  },
  {
   "cell_type": "markdown",
   "metadata": {},
   "source": [
    "Initialize the DatasetBuilder"
   ]
  },
  {
   "cell_type": "code",
   "execution_count": null,
   "metadata": {},
   "outputs": [],
   "source": [
    "raw_dataset = r\".\\Delfi_sample_data\\raw\"\n",
    "unverified_dataset = r\".\\Delfi_sample_data\\unverified\"\n",
    "\n",
    "dataset = DatasetBuilder(raw_dataset, unverified_dataset)"
   ]
  },
  {
   "cell_type": "markdown",
   "metadata": {},
   "source": [
    "Creating yolo11 dataset with model"
   ]
  },
  {
   "cell_type": "code",
   "execution_count": null,
   "metadata": {},
   "outputs": [],
   "source": [
    "model_path = r\".\\yolo11m_week1.pt\"\n",
    "\n",
    "dataset.create_yolo11_dataset_with_model(model_path, conf_threshold = 0.2, n_images = 100, split_ratio = [0.7, 0.2, 0.1], verbose = True)"
   ]
  },
  {
   "cell_type": "markdown",
   "metadata": {},
   "source": [
    "Check if it's a valid yolo11 dataset"
   ]
  },
  {
   "cell_type": "code",
   "execution_count": null,
   "metadata": {},
   "outputs": [],
   "source": [
    "from yolo_dataset_checker import is_yolo11_dataset\n",
    "import pprint\n",
    "\n",
    "path_to_dataset = r\".\\Delfi_sample_data\\unverified\\Unverified_10042025_234230\"\n",
    "\n",
    "test = is_yolo11_dataset(path_to_dataset)\n",
    "print(f\"Is yolo11 dataset: {test['is_valid']}\")\n",
    "\n",
    "pp = pprint.PrettyPrinter()\n",
    "pp.pprint(test)"
   ]
  },
  {
   "cell_type": "markdown",
   "metadata": {},
   "source": [
    "Model training"
   ]
  },
  {
   "cell_type": "code",
   "execution_count": null,
   "metadata": {},
   "outputs": [],
   "source": [
    "from ultralytics import YOLO\n",
    "\n",
    "model = YOLO('yolo11m.pt')  # Load the classification model\n",
    "\n",
    "path_to_dataset_yaml = r\".\\Delfi_sample_data\\unverified\\Unverified_10042025_234230\\dataset.yaml\"  # Path to the dataset YAML file\n",
    "\n",
    "# Start training\n",
    "results = model.train(\n",
    "    data=path_to_dataset_yaml, # Path to the dataset YAML file (This is just an example so I use unverified dataset here, you should use the verified dataset)\n",
    "    epochs=10,\n",
    "    imgsz=640,\n",
    "    batch=32,\n",
    "    device='cpu'  # Use '0' for first GPU, 'cpu' for CPU training\n",
    ")"
   ]
  }
 ],
 "metadata": {
  "kernelspec": {
   "display_name": "igb_test",
   "language": "python",
   "name": "python3"
  },
  "language_info": {
   "codemirror_mode": {
    "name": "ipython",
    "version": 3
   },
   "file_extension": ".py",
   "mimetype": "text/x-python",
   "name": "python",
   "nbconvert_exporter": "python",
   "pygments_lexer": "ipython3",
   "version": "3.13.2"
  }
 },
 "nbformat": 4,
 "nbformat_minor": 2
}
